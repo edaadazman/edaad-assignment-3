{
  "cells": [
    {
      "cell_type": "markdown",
      "id": "245217cc",
      "metadata": {
        "id": "245217cc"
      },
      "source": [
        "# Assignment: SVD Preprocessing on MNIST with Logistic Regression"
      ]
    },
    {
      "cell_type": "markdown",
      "id": "deffa444",
      "metadata": {
        "id": "deffa444"
      },
      "source": [
        "## Instructions:\n",
        "In this assignment, you will apply **Singular Value Decomposition (SVD)** as a preprocessing step to the **MNIST dataset** and train a **logistic regression classifier**. You will compare the model performance and training time when using different levels of SVD for dimensionality reduction.\n",
        "\n",
        "In this assignment, you will need to:\n",
        "1. Load the MNIST dataset and normalize it.\n",
        "2. Perform SVD and reduce the dimensions of the data.\n",
        "3. Train a logistic regression model on the original and SVD-reduced data.\n",
        "4. Measure and compare the training time and accuracy of the model with varying SVD components.\n",
        "5. Plot the results and analyze how SVD impacts the performance and efficiency of the model.\n",
        "\n",
        "***\n",
        "Your tasks include:\n",
        "1. Implement SVD algorithm. You are not allowed to directly use SVD implemented by other packages, but you may use functions in NumPy. (Part 2)\n",
        "2. Explore the accuracy and time performance from different numbers of SVD components. (Part 4)\n",
        "3. Visualize the accuracy, time performance and top 5 singular vectors in the dataset, analyze and explain which number of SVD component looks best to you? (Part 4,5&6) Hint: singular vectors should be reshaped to 28x28 images for visualization.\n",
        "***\n",
        "**Note that you may not import any other function or package.** Let's get started!\n"
      ]
    },
    {
      "cell_type": "markdown",
      "id": "b3e10cb3",
      "metadata": {
        "id": "b3e10cb3"
      },
      "source": [
        "## Part 1: Load the MNIST dataset and preprocess the data"
      ]
    },
    {
      "cell_type": "code",
      "execution_count": 22,
      "id": "79f2d907",
      "metadata": {
        "colab": {
          "base_uri": "https://localhost:8080/"
        },
        "id": "79f2d907",
        "outputId": "b826cbad-746c-4788-fa32-bd6fdc0ed98a"
      },
      "outputs": [
        {
          "output_type": "stream",
          "name": "stdout",
          "text": [
            "Loading MNIST dataset...\n"
          ]
        }
      ],
      "source": [
        "import numpy as np\n",
        "import matplotlib.pyplot as plt\n",
        "import time\n",
        "from sklearn.linear_model import LogisticRegression\n",
        "from sklearn.model_selection import train_test_split\n",
        "from sklearn.datasets import fetch_openml\n",
        "from sklearn.metrics import accuracy_score, classification_report\n",
        "\n",
        "# Load MNIST dataset\n",
        "print(\"Loading MNIST dataset...\")\n",
        "mnist = fetch_openml('mnist_784', version=1)\n",
        "X = mnist.data\n",
        "y = mnist.target\n",
        "\n",
        "# Normalize the data\n",
        "X = X / 255.0\n",
        "\n",
        "# Split into training and test sets\n",
        "X_train, X_test, y_train, y_test = train_test_split(X, y, test_size=0.2, random_state=42)\n"
      ]
    },
    {
      "cell_type": "markdown",
      "id": "28b8572d",
      "metadata": {
        "id": "28b8572d"
      },
      "source": [
        "## Part 2: Implement SVD for Dimensionality Reduction"
      ]
    },
    {
      "cell_type": "code",
      "execution_count": 23,
      "id": "b3bd59f3",
      "metadata": {
        "id": "b3bd59f3"
      },
      "outputs": [],
      "source": [
        "def apply_svd_custom(X_train, X_test, n_components):\n",
        "    mean = np.mean(X_train, axis=0)\n",
        "    X_train_centered = X_train - mean\n",
        "    X_test_centered = X_test - mean\n",
        "\n",
        "    A = X_train_centered\n",
        "    m, n = A.shape\n",
        "\n",
        "    if m >= n:\n",
        "        ATA = np.dot(A.T, A)  # Covariance matrix\n",
        "        eigvals, eigvecs = np.linalg.eigh(ATA)\n",
        "    else:\n",
        "        AAT = np.dot(A, A.T)\n",
        "        eigvals, eigvecs = np.linalg.eigh(AAT)\n",
        "\n",
        "    sorted_indices = np.argsort(eigvals)[::-1]\n",
        "    eigvals = eigvals[sorted_indices]\n",
        "    eigvecs = eigvecs[:, sorted_indices]\n",
        "\n",
        "    singular_values = np.sqrt(np.maximum(eigvals[:n_components], 0))\n",
        "\n",
        "    singular_values[singular_values == 0] = 1e-10\n",
        "\n",
        "    if m >= n:\n",
        "        V = eigvecs[:, :n_components]\n",
        "        U = np.dot(A, V) / singular_values\n",
        "    else:\n",
        "        U = eigvecs[:, :n_components]\n",
        "        V = np.dot(A.T, U) / singular_values\n",
        "\n",
        "    X_train_svd = np.dot(U, np.diag(singular_values))\n",
        "    X_test_svd = np.dot(X_test_centered, V)\n",
        "\n",
        "    return X_train_svd, X_test_svd, V\n"
      ]
    },
    {
      "cell_type": "markdown",
      "id": "eb2a7a9d",
      "metadata": {
        "id": "eb2a7a9d"
      },
      "source": [
        "## Part 3: Train Logistic Regression and Measure Performance"
      ]
    },
    {
      "cell_type": "code",
      "execution_count": 24,
      "id": "dbfc0b10",
      "metadata": {
        "id": "dbfc0b10"
      },
      "outputs": [],
      "source": [
        "# Function to train logistic regression and track training time\n",
        "def train_logistic_regression(X_train, y_train, X_test, y_test):\n",
        "    model = LogisticRegression(max_iter=1000, solver='saga', random_state=42, multi_class='multinomial')\n",
        "\n",
        "    # Measure training time\n",
        "    start_time = time.time()\n",
        "    model.fit(X_train, y_train)\n",
        "    training_time = time.time() - start_time\n",
        "\n",
        "    y_pred = model.predict(X_test)\n",
        "    accuracy = accuracy_score(y_test, y_pred)\n",
        "\n",
        "    return accuracy, training_time\n"
      ]
    },
    {
      "cell_type": "markdown",
      "id": "2e557a05",
      "metadata": {
        "id": "2e557a05"
      },
      "source": [
        "## Part 4: Experiment with Different Levels of SVD\n",
        "\n",
        "Now, apply SVD with varying numbers of components and observe how the dimensionality reduction impacts the model's performance. Record both the accuracy and training time for each number of components.\n"
      ]
    },
    {
      "cell_type": "code",
      "execution_count": 25,
      "id": "3a460725",
      "metadata": {
        "colab": {
          "base_uri": "https://localhost:8080/"
        },
        "id": "3a460725",
        "outputId": "4f2f7260-5e09-4cf5-9a7f-399f68f76b23"
      },
      "outputs": [
        {
          "output_type": "stream",
          "name": "stdout",
          "text": [
            "Training models with different levels of SVD preprocessing...\n",
            "Applying custom SVD with 1 components...\n"
          ]
        },
        {
          "output_type": "stream",
          "name": "stderr",
          "text": [
            "/usr/local/lib/python3.10/dist-packages/sklearn/linear_model/_logistic.py:1247: FutureWarning: 'multi_class' was deprecated in version 1.5 and will be removed in 1.7. From then on, it will always use 'multinomial'. Leave it to its default value to avoid this warning.\n",
            "  warnings.warn(\n"
          ]
        },
        {
          "output_type": "stream",
          "name": "stdout",
          "text": [
            "SVD components: 1, Accuracy: 0.3069, Training time: 0.6051 seconds\n",
            "Applying custom SVD with 5 components...\n"
          ]
        },
        {
          "output_type": "stream",
          "name": "stderr",
          "text": [
            "/usr/local/lib/python3.10/dist-packages/sklearn/linear_model/_logistic.py:1247: FutureWarning: 'multi_class' was deprecated in version 1.5 and will be removed in 1.7. From then on, it will always use 'multinomial'. Leave it to its default value to avoid this warning.\n",
            "  warnings.warn(\n"
          ]
        },
        {
          "output_type": "stream",
          "name": "stdout",
          "text": [
            "SVD components: 5, Accuracy: 0.6796, Training time: 1.0362 seconds\n",
            "Applying custom SVD with 15 components...\n"
          ]
        },
        {
          "output_type": "stream",
          "name": "stderr",
          "text": [
            "/usr/local/lib/python3.10/dist-packages/sklearn/linear_model/_logistic.py:1247: FutureWarning: 'multi_class' was deprecated in version 1.5 and will be removed in 1.7. From then on, it will always use 'multinomial'. Leave it to its default value to avoid this warning.\n",
            "  warnings.warn(\n"
          ]
        },
        {
          "output_type": "stream",
          "name": "stdout",
          "text": [
            "SVD components: 15, Accuracy: 0.8424, Training time: 2.7387 seconds\n",
            "Applying custom SVD with 35 components...\n"
          ]
        },
        {
          "output_type": "stream",
          "name": "stderr",
          "text": [
            "/usr/local/lib/python3.10/dist-packages/sklearn/linear_model/_logistic.py:1247: FutureWarning: 'multi_class' was deprecated in version 1.5 and will be removed in 1.7. From then on, it will always use 'multinomial'. Leave it to its default value to avoid this warning.\n",
            "  warnings.warn(\n"
          ]
        },
        {
          "output_type": "stream",
          "name": "stdout",
          "text": [
            "SVD components: 35, Accuracy: 0.8999, Training time: 7.9943 seconds\n",
            "Applying custom SVD with 80 components...\n"
          ]
        },
        {
          "output_type": "stream",
          "name": "stderr",
          "text": [
            "/usr/local/lib/python3.10/dist-packages/sklearn/linear_model/_logistic.py:1247: FutureWarning: 'multi_class' was deprecated in version 1.5 and will be removed in 1.7. From then on, it will always use 'multinomial'. Leave it to its default value to avoid this warning.\n",
            "  warnings.warn(\n"
          ]
        },
        {
          "output_type": "stream",
          "name": "stdout",
          "text": [
            "SVD components: 80, Accuracy: 0.9164, Training time: 29.9188 seconds\n",
            "Applying custom SVD with 120 components...\n"
          ]
        },
        {
          "output_type": "stream",
          "name": "stderr",
          "text": [
            "/usr/local/lib/python3.10/dist-packages/sklearn/linear_model/_logistic.py:1247: FutureWarning: 'multi_class' was deprecated in version 1.5 and will be removed in 1.7. From then on, it will always use 'multinomial'. Leave it to its default value to avoid this warning.\n",
            "  warnings.warn(\n"
          ]
        },
        {
          "output_type": "stream",
          "name": "stdout",
          "text": [
            "SVD components: 120, Accuracy: 0.9186, Training time: 62.2187 seconds\n",
            "Applying custom SVD with 185 components...\n"
          ]
        },
        {
          "output_type": "stream",
          "name": "stderr",
          "text": [
            "/usr/local/lib/python3.10/dist-packages/sklearn/linear_model/_logistic.py:1247: FutureWarning: 'multi_class' was deprecated in version 1.5 and will be removed in 1.7. From then on, it will always use 'multinomial'. Leave it to its default value to avoid this warning.\n",
            "  warnings.warn(\n"
          ]
        },
        {
          "output_type": "stream",
          "name": "stdout",
          "text": [
            "SVD components: 185, Accuracy: 0.9206, Training time: 93.4752 seconds\n",
            "Applying custom SVD with 290 components...\n"
          ]
        },
        {
          "output_type": "stream",
          "name": "stderr",
          "text": [
            "/usr/local/lib/python3.10/dist-packages/sklearn/linear_model/_logistic.py:1247: FutureWarning: 'multi_class' was deprecated in version 1.5 and will be removed in 1.7. From then on, it will always use 'multinomial'. Leave it to its default value to avoid this warning.\n",
            "  warnings.warn(\n"
          ]
        },
        {
          "output_type": "stream",
          "name": "stdout",
          "text": [
            "SVD components: 290, Accuracy: 0.9208, Training time: 160.5712 seconds\n",
            "Applying custom SVD with 450 components...\n"
          ]
        },
        {
          "output_type": "stream",
          "name": "stderr",
          "text": [
            "/usr/local/lib/python3.10/dist-packages/sklearn/linear_model/_logistic.py:1247: FutureWarning: 'multi_class' was deprecated in version 1.5 and will be removed in 1.7. From then on, it will always use 'multinomial'. Leave it to its default value to avoid this warning.\n",
            "  warnings.warn(\n"
          ]
        },
        {
          "output_type": "stream",
          "name": "stdout",
          "text": [
            "SVD components: 450, Accuracy: 0.9200, Training time: 317.2140 seconds\n",
            "Applying custom SVD with 620 components...\n"
          ]
        },
        {
          "output_type": "stream",
          "name": "stderr",
          "text": [
            "/usr/local/lib/python3.10/dist-packages/sklearn/linear_model/_logistic.py:1247: FutureWarning: 'multi_class' was deprecated in version 1.5 and will be removed in 1.7. From then on, it will always use 'multinomial'. Leave it to its default value to avoid this warning.\n",
            "  warnings.warn(\n"
          ]
        },
        {
          "output_type": "stream",
          "name": "stdout",
          "text": [
            "SVD components: 620, Accuracy: 0.9208, Training time: 465.5326 seconds\n",
            "Applying custom SVD with 784 components...\n"
          ]
        },
        {
          "output_type": "stream",
          "name": "stderr",
          "text": [
            "/usr/local/lib/python3.10/dist-packages/sklearn/linear_model/_logistic.py:1247: FutureWarning: 'multi_class' was deprecated in version 1.5 and will be removed in 1.7. From then on, it will always use 'multinomial'. Leave it to its default value to avoid this warning.\n",
            "  warnings.warn(\n"
          ]
        },
        {
          "output_type": "stream",
          "name": "stdout",
          "text": [
            "SVD components: 784, Accuracy: 0.9207, Training time: 579.1400 seconds\n",
            "SVD Components | Accuracy | Training Time (seconds)\n",
            "1 | 0.3069 | 0.6051\n",
            "5 | 0.6796 | 1.0362\n",
            "15 | 0.8424 | 2.7387\n",
            "35 | 0.8999 | 7.9943\n",
            "80 | 0.9164 | 29.9188\n",
            "120 | 0.9186 | 62.2187\n",
            "185 | 0.9206 | 93.4752\n",
            "290 | 0.9208 | 160.5712\n",
            "450 | 0.9200 | 317.2140\n",
            "620 | 0.9208 | 465.5326\n",
            "784 | 0.9207 | 579.1400\n"
          ]
        }
      ],
      "source": [
        "svd_components = [1, 5, 15, 35, 80, 120, 185, 290, 450, 620, 784]\n",
        "\n",
        "final_results = []\n",
        "\n",
        "print(\"Training models with different levels of SVD preprocessing...\")\n",
        "\n",
        "for n_components in svd_components:\n",
        "    print(f\"Applying custom SVD with {n_components} components...\")\n",
        "\n",
        "    X_train_svd, X_test_svd, right_singular_vectors = apply_svd_custom(X_train, X_test, n_components)\n",
        "\n",
        "    accuracy, training_time = train_logistic_regression(X_train_svd, y_train, X_test_svd, y_test)\n",
        "\n",
        "    final_results.append({\n",
        "        'n_components': n_components,\n",
        "        'accuracy': accuracy,\n",
        "        'training_time': training_time,\n",
        "        'right_singular_vectors': right_singular_vectors\n",
        "    })\n",
        "\n",
        "    print(f\"SVD components: {n_components}, Accuracy: {accuracy:.4f}, Training time: {training_time:.4f} seconds\")\n",
        "\n",
        "print(\"SVD Components | Accuracy | Training Time (seconds)\")\n",
        "for result in final_results:\n",
        "    print(f\"{result['n_components']} | {result['accuracy']:.4f} | {result['training_time']:.4f}\")\n"
      ]
    },
    {
      "cell_type": "markdown",
      "id": "ea7aca12",
      "metadata": {
        "id": "ea7aca12"
      },
      "source": [
        "## Part 5: Visualize and Analyze the Results\n",
        "\n",
        "Finally, plot the accuracy, training time as a function of the number of SVD components, and top 5 singular vectors. This will help you understand the trade-off between dimensionality reduction, accuracy, and model training time, and how SVD generally works. Hint: singular vectors should be reshaped to 28x28 images for visualization.\n"
      ]
    },
    {
      "cell_type": "code",
      "execution_count": 26,
      "id": "92ef0497",
      "metadata": {
        "colab": {
          "base_uri": "https://localhost:8080/",
          "height": 699
        },
        "id": "92ef0497",
        "outputId": "5fa5b630-4904-4320-e691-32ba47abbb98"
      },
      "outputs": [
        {
          "output_type": "display_data",
          "data": {
            "text/plain": [
              "<Figure size 1200x500 with 2 Axes>"
            ],
            "image/png": "[encoded data removed]"
          },
          "metadata": {}
        },
        {
          "output_type": "display_data",
          "data": {
            "text/plain": [
              "<Figure size 1000x200 with 5 Axes>"
            ],
            "image/png": "[encoded data removed]"
          },
          "metadata": {}
        }
      ],
      "source": [
        "import numpy as np\n",
        "import matplotlib.pyplot as plt\n",
        "\n",
        "components = [result['n_components'] for result in final_results]\n",
        "accuracy = [result['accuracy'] for result in final_results]\n",
        "training_time = [result['training_time'] for result in final_results]\n",
        "\n",
        "plt.figure(figsize=(12, 5))\n",
        "\n",
        "plt.subplot(1, 2, 1)\n",
        "plt.plot(components, accuracy, marker='o', color='b', label='Accuracy')\n",
        "plt.xlabel('Number of SVD Components')\n",
        "plt.ylabel('Accuracy')\n",
        "plt.title('Accuracy vs. Number of SVD Components')\n",
        "plt.grid(True)\n",
        "\n",
        "plt.subplot(1, 2, 2)\n",
        "plt.plot(components, training_time, marker='o', color='r', label='Training Time (seconds)')\n",
        "plt.xlabel('Number of SVD Components')\n",
        "plt.ylabel('Training Time (seconds)')\n",
        "plt.title('Training Time vs. Number of SVD Components')\n",
        "plt.grid(True)\n",
        "\n",
        "plt.tight_layout()\n",
        "plt.show()\n",
        "\n",
        "top_result = final_results[-1]\n",
        "top_singular_vectors = top_result['right_singular_vectors'].T[:5]\n",
        "\n",
        "plt.figure(figsize=(10, 2))\n",
        "for i in range(5):\n",
        "    plt.subplot(1, 5, i + 1)\n",
        "    plt.imshow(top_singular_vectors[i].reshape(28, 28), cmap='gray')\n",
        "    plt.title(f'SV {i + 1}')\n",
        "    plt.axis('off')\n",
        "\n",
        "plt.tight_layout()\n",
        "plt.show()\n"
      ]
    },
    {
      "cell_type": "markdown",
      "id": "4210569a",
      "metadata": {
        "id": "4210569a"
      },
      "source": [
        "## Part 6: Analyze / Conclusion\n",
        "\n",
        "YOUR ANSWER:"
      ]
    },
    {
      "cell_type": "code",
      "execution_count": 31,
      "id": "d47f043c",
      "metadata": {
        "id": "d47f043c"
      },
      "outputs": [],
      "source": [
        "# As the number of SVD components increases, accuracy improves rapidly up to around 80 components:\n",
        "# With 1 component, accuracy is just 30.69%.\n",
        "# By 80 components, accuracy rises to 91.64%.\n",
        "# After 80 components, accuracy only shows small improvements:\n",
        "# At 185 components, accuracy is 92.06%.\n",
        "# At 784 components, accuracy is 92.07%.\n",
        "# Training time increases dramatically as more components are used:\n",
        "# 1 component took only 0.6 seconds.\n",
        "# 80 components took 30 seconds.\n",
        "# 784 components required a substantial 579 seconds (over 9 minutes).\n",
        "# The best range seems to be around that 35-80 components rnage:\n",
        "# 35 components yield 89.99% accuracy in 8 seconds.\n",
        "# 80 components give the highest accuracy of 91.64% in about 30 seconds.\n",
        "\n",
        "# Most of the useful information is captured within the first 80 components. Beyond this point, adding more components doesn’t significantly improve accuracy.\n",
        "# There is a very big trade-off between accuracy and training time. While accuracy slightly increases with more components, the training time rises significantly, making the use of too many components inefficient.\n",
        "# Using between 80 and 185 components balances accuracy and training time effectively. Beyond this range, accuracy gains are negligible, but training time becomes way too long.\n"
      ]
    }
  ],
  "metadata": {
    "kernelspec": {
      "display_name": "Python 3",
      "language": "python",
      "name": "python3"
    },
    "language_info": {
      "codemirror_mode": {
        "name": "ipython",
        "version": 3
      },
      "file_extension": ".py",
      "mimetype": "text/x-python",
      "name": "python",
      "nbconvert_exporter": "python",
      "pygments_lexer": "ipython3",
      "version": "3.8.10"
    },
    "colab": {
      "provenance": []
    }
  },
  "nbformat": 4,
  "nbformat_minor": 5
}